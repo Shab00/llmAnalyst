{
  "nbformat": 4,
  "nbformat_minor": 0,
  "metadata": {
    "colab": {
      "provenance": [],
      "machine_shape": "hm",
      "gpuType": "A100"
    },
    "kernelspec": {
      "name": "python3",
      "display_name": "Python 3"
    },
    "language_info": {
      "name": "python"
    },
    "accelerator": "GPU"
  },
  "cells": [
    {
      "cell_type": "code",
      "source": [
        "! pip install feedparser"
      ],
      "metadata": {
        "colab": {
          "base_uri": "https://localhost:8080/"
        },
        "id": "TBFSai4sLHLy",
        "outputId": "9efce259-bb7c-4ba6-9e37-b2dc43e552cf"
      },
      "execution_count": 1,
      "outputs": [
        {
          "output_type": "stream",
          "name": "stdout",
          "text": [
            "Collecting feedparser\n",
            "  Downloading feedparser-6.0.11-py3-none-any.whl.metadata (2.4 kB)\n",
            "Collecting sgmllib3k (from feedparser)\n",
            "  Downloading sgmllib3k-1.0.0.tar.gz (5.8 kB)\n",
            "  Preparing metadata (setup.py) ... \u001b[?25l\u001b[?25hdone\n",
            "Downloading feedparser-6.0.11-py3-none-any.whl (81 kB)\n",
            "\u001b[2K   \u001b[90m━━━━━━━━━━━━━━━━━━━━━━━━━━━━━━━━━━━━━━━━\u001b[0m \u001b[32m81.3/81.3 kB\u001b[0m \u001b[31m1.9 MB/s\u001b[0m eta \u001b[36m0:00:00\u001b[0m\n",
            "\u001b[?25hBuilding wheels for collected packages: sgmllib3k\n",
            "  Building wheel for sgmllib3k (setup.py) ... \u001b[?25l\u001b[?25hdone\n",
            "  Created wheel for sgmllib3k: filename=sgmllib3k-1.0.0-py3-none-any.whl size=6047 sha256=2121d8f95d6b5b8bd95abb930cae125b0b50b767aa6863936d61761cbfcfbd3d\n",
            "  Stored in directory: /root/.cache/pip/wheels/3b/25/2a/105d6a15df6914f4d15047691c6c28f9052cc1173e40285d03\n",
            "Successfully built sgmllib3k\n",
            "Installing collected packages: sgmllib3k, feedparser\n",
            "Successfully installed feedparser-6.0.11 sgmllib3k-1.0.0\n"
          ]
        }
      ]
    },
    {
      "cell_type": "code",
      "execution_count": 2,
      "metadata": {
        "colab": {
          "base_uri": "https://localhost:8080/"
        },
        "id": "ucRU4mHUPvPd",
        "outputId": "ffecb8db-60d4-4db5-c798-b489a57806b0"
      },
      "outputs": [
        {
          "output_type": "stream",
          "name": "stdout",
          "text": [
            "Mounted at /content/drive\n"
          ]
        }
      ],
      "source": [
        "from IPython import get_ipython\n",
        "from IPython.display import display\n",
        "import requests\n",
        "import feedparser\n",
        "import os\n",
        "import time\n",
        "from bs4 import BeautifulSoup\n",
        "import xml.etree.ElementTree as ET\n",
        "import csv\n",
        "from google.colab import drive\n",
        "\n",
        "drive.mount('/content/drive')"
      ]
    },
    {
      "cell_type": "code",
      "source": [
        "# Updated Atom feed URL\n",
        "feed_url = \"https://caselaw.nationalarchives.gov.uk/atom.xml?\""
      ],
      "metadata": {
        "id": "cK1nRGAdM3VT"
      },
      "execution_count": 3,
      "outputs": []
    },
    {
      "cell_type": "code",
      "source": [
        "# Headers for requests\n",
        "headers = {\n",
        "    'User-Agent': 'Mozilla/5.0 (Windows NT 10.0; Win64; x64) AppleWebKit/537.36 (KHTML, like Gecko) Chrome/91.0.4472.124 Safari/537.36'\n",
        "}"
      ],
      "metadata": {
        "id": "Wg2YtE5UMGBJ"
      },
      "execution_count": 4,
      "outputs": []
    },
    {
      "cell_type": "code",
      "source": [
        "def scrape_case_content(topic_url):\n",
        "    try:\n",
        "        response = requests.get(topic_url, headers=headers)\n",
        "        topic_soup = BeautifulSoup(response.text, 'html.parser')\n",
        "\n",
        "        # Extract relevant content (adjust as needed)\n",
        "        # Example: Extract all paragraph text\n",
        "        sections = topic_soup.find_all('p')\n",
        "\n",
        "        # Create XML elements\n",
        "        case_element = ET.Element(\"case\")\n",
        "        for section in sections:\n",
        "            text_element = ET.SubElement(case_element, \"text\")\n",
        "            text_element.text = section.get_text()\n",
        "\n",
        "        # Append to existing XML file or create a new one\n",
        "        try:\n",
        "            tree = ET.parse('/content/drive/MyDrive/all_case_data.xml')\n",
        "            root = tree.getroot()\n",
        "            root.append(case_element)\n",
        "        except FileNotFoundError:\n",
        "            root = ET.Element(\"cases\")\n",
        "            root.append(case_element)\n",
        "            tree = ET.ElementTree(root)\n",
        "\n",
        "        tree.write('/content/drive/MyDrive/all_case_data.xml', encoding='utf-8', xml_declaration=True)\n",
        "\n",
        "        print(f\"Scraped content from {topic_url}\")\n",
        "\n",
        "    except Exception as e:\n",
        "        print(f\"Error scraping {topic_url}: {e}\")"
      ],
      "metadata": {
        "id": "RWPL3rjgaLU5"
      },
      "execution_count": 5,
      "outputs": []
    },
    {
      "cell_type": "code",
      "source": [
        "# Fetch and parse the Atom feed\n",
        "response = requests.get(feed_url, headers=headers)\n",
        "feed = feedparser.parse(response.content)\n",
        "\n",
        "# Extract judgment links\n",
        "judgment_links = [entry.link for entry in feed.entries]\n",
        "\n",
        "# Process each judgment link\n",
        "for link in judgment_links:\n",
        "    scrape_case_content(link)  # Directly use the link from the feed\n",
        "    time.sleep(5)  # Add a delay to avoid overloading the server"
      ],
      "metadata": {
        "colab": {
          "base_uri": "https://localhost:8080/"
        },
        "id": "d3rrIz-BMqWv",
        "outputId": "09ee9c25-c362-485e-acc0-6b2dbb08fa07"
      },
      "execution_count": 6,
      "outputs": [
        {
          "output_type": "stream",
          "name": "stdout",
          "text": [
            "Scraped content from https://caselaw.nationalarchives.gov.uk/ewhc/kb/2025/138\n",
            "Scraped content from https://caselaw.nationalarchives.gov.uk/ewhc/ch/2025/135\n",
            "Scraped content from https://caselaw.nationalarchives.gov.uk/ewhc/admin/2025/123\n",
            "Scraped content from https://caselaw.nationalarchives.gov.uk/ewhc/comm/2025/140\n",
            "Scraped content from https://caselaw.nationalarchives.gov.uk/ewca/crim/2025/52\n",
            "Scraped content from https://caselaw.nationalarchives.gov.uk/ewhc/ch/2025/136\n",
            "Scraped content from https://caselaw.nationalarchives.gov.uk/ewca/crim/2025/51\n",
            "Scraped content from https://caselaw.nationalarchives.gov.uk/ewhc/admin/2025/137\n",
            "Scraped content from https://caselaw.nationalarchives.gov.uk/ukftt/tc/2025/66\n",
            "Scraped content from https://caselaw.nationalarchives.gov.uk/ukftt/grc/2025/73\n",
            "Scraped content from https://caselaw.nationalarchives.gov.uk/ewhc/admin/2025/113\n",
            "Scraped content from https://caselaw.nationalarchives.gov.uk/ewhc/tcc/2025/100\n",
            "Scraped content from https://caselaw.nationalarchives.gov.uk/ewhc/kb/2025/127\n",
            "Scraped content from https://caselaw.nationalarchives.gov.uk/ewca/civ/2025/42\n",
            "Scraped content from https://caselaw.nationalarchives.gov.uk/ukftt/tc/2025/65\n",
            "Scraped content from https://caselaw.nationalarchives.gov.uk/ukftt/tc/2025/67\n",
            "Scraped content from https://caselaw.nationalarchives.gov.uk/ewfc/b/2025/10\n",
            "Scraped content from https://caselaw.nationalarchives.gov.uk/ewhc/comm/2025/32\n",
            "Scraped content from https://caselaw.nationalarchives.gov.uk/ukftt/grc/2025/61\n",
            "Scraped content from https://caselaw.nationalarchives.gov.uk/ewhc/kb/2025/134\n",
            "Scraped content from https://caselaw.nationalarchives.gov.uk/ewca/civ/2025/41\n",
            "Scraped content from https://caselaw.nationalarchives.gov.uk/ewhc/kb/2025/106\n",
            "Scraped content from https://caselaw.nationalarchives.gov.uk/ewhc/admin/2025/128\n",
            "Scraped content from https://caselaw.nationalarchives.gov.uk/eat/2025/10\n",
            "Scraped content from https://caselaw.nationalarchives.gov.uk/ewca/civ/2025/39\n",
            "Scraped content from https://caselaw.nationalarchives.gov.uk/ewhc/scco/2025/126\n",
            "Scraped content from https://caselaw.nationalarchives.gov.uk/ewhc/comm/2025/120\n",
            "Scraped content from https://caselaw.nationalarchives.gov.uk/ewhc/kb/2025/111\n",
            "Scraped content from https://caselaw.nationalarchives.gov.uk/ewhc/kb/2025/109\n",
            "Scraped content from https://caselaw.nationalarchives.gov.uk/ukut/lc/2024/19\n",
            "Scraped content from https://caselaw.nationalarchives.gov.uk/ewhc/ch/2025/104\n",
            "Scraped content from https://caselaw.nationalarchives.gov.uk/ewca/crim/2025/38\n",
            "Scraped content from https://caselaw.nationalarchives.gov.uk/ewca/civ/2025/36\n",
            "Scraped content from https://caselaw.nationalarchives.gov.uk/ukftt/grc/2025/62\n",
            "Scraped content from https://caselaw.nationalarchives.gov.uk/ewca/civ/2025/40\n",
            "Scraped content from https://caselaw.nationalarchives.gov.uk/ewhc/tcc/2025/108\n",
            "Scraped content from https://caselaw.nationalarchives.gov.uk/ewhc/scco/2025/125\n",
            "Scraped content from https://caselaw.nationalarchives.gov.uk/ewhc/tcc/2025/105\n",
            "Scraped content from https://caselaw.nationalarchives.gov.uk/ewhc/scco/2025/118\n",
            "Scraped content from https://caselaw.nationalarchives.gov.uk/ukftt/grc/2025/63\n",
            "Scraped content from https://caselaw.nationalarchives.gov.uk/ukut/tcc/2025/28\n",
            "Scraped content from https://caselaw.nationalarchives.gov.uk/ewhc/admin/2025/101\n",
            "Scraped content from https://caselaw.nationalarchives.gov.uk/ewhc/tcc/2025/90\n",
            "Scraped content from https://caselaw.nationalarchives.gov.uk/ewhc/kb/2025/99\n",
            "Scraped content from https://caselaw.nationalarchives.gov.uk/ukftt/tc/2025/68\n",
            "Scraped content from https://caselaw.nationalarchives.gov.uk/ukftt/grc/2025/54\n",
            "Scraped content from https://caselaw.nationalarchives.gov.uk/ewhc/ch/2025/85\n",
            "Scraped content from https://caselaw.nationalarchives.gov.uk/ewhc/admin/2025/87\n",
            "Scraped content from https://caselaw.nationalarchives.gov.uk/ewca/crim/2025/25\n",
            "Scraped content from https://caselaw.nationalarchives.gov.uk/ukftt/tc/2025/69\n"
          ]
        }
      ]
    },
    {
      "cell_type": "code",
      "source": [
        "# Count and display the number of case laws\n",
        "try:\n",
        "    tree = ET.parse('/content/drive/MyDrive/all_case_data.xml')\n",
        "    root = tree.getroot()\n",
        "    case_count = len(root.findall('case'))\n",
        "    print(f\"Total number of case laws downloaded: {case_count}\")\n",
        "except FileNotFoundError:\n",
        "    print(\"XML file not found.\")"
      ],
      "metadata": {
        "colab": {
          "base_uri": "https://localhost:8080/"
        },
        "id": "JlM70a0pSldY",
        "outputId": "9819a5f0-4e4c-4d3a-b547-a929d477d3a7"
      },
      "execution_count": 7,
      "outputs": [
        {
          "output_type": "stream",
          "name": "stdout",
          "text": [
            "Total number of case laws downloaded: 100\n"
          ]
        }
      ]
    },
    {
      "cell_type": "code",
      "source": [],
      "metadata": {
        "id": "iBmbHheBSm8q"
      },
      "execution_count": null,
      "outputs": []
    }
  ]
}