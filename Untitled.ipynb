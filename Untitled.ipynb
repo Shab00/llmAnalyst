{
 "cells": [
  {
   "cell_type": "code",
   "execution_count": 1,
   "id": "20f63e4f-921e-41c2-a136-a518fe0ded13",
   "metadata": {},
   "outputs": [
    {
     "name": "stdout",
     "output_type": "stream",
     "text": [
      "Cleaned notebook saved as Lab1_CLEANED.ipynb\n"
     ]
    }
   ],
   "source": [
    "import json\n",
    "\n",
    "def clean_widgets_metadata(nb_path):\n",
    "    with open(nb_path, \"r\", encoding=\"utf-8\") as f:\n",
    "        nb = json.load(f)\n",
    "\n",
    "    if \"metadata\" in nb:\n",
    "        nb[\"metadata\"][\"widgets\"] = {\"state\": {}}\n",
    "\n",
    "    with open(nb_path.replace(\".ipynb\", \"_CLEANED.ipynb\"), \"w\", encoding=\"utf-8\") as f:\n",
    "        json.dump(nb, f, indent=1)\n",
    "    print(f\"Cleaned notebook saved as {nb_path.replace('.ipynb', '_CLEANED.ipynb')}\")\n",
    "\n",
    "# Usage: change 'your_notebook.ipynb' to your actual filename\n",
    "clean_widgets_metadata(\"Lab1.ipynb\")"
   ]
  },
  {
   "cell_type": "code",
   "execution_count": null,
   "id": "ca3bb3b4-cce2-4c6e-9820-96bd28087f87",
   "metadata": {},
   "outputs": [],
   "source": []
  }
 ],
 "metadata": {
  "kernelspec": {
   "display_name": "Python (Miniforge myenv)",
   "language": "python",
   "name": "myenv"
  },
  "language_info": {
   "codemirror_mode": {
    "name": "ipython",
    "version": 3
   },
   "file_extension": ".py",
   "mimetype": "text/x-python",
   "name": "python",
   "nbconvert_exporter": "python",
   "pygments_lexer": "ipython3",
   "version": "3.10.16"
  }
 },
 "nbformat": 4,
 "nbformat_minor": 5
}
