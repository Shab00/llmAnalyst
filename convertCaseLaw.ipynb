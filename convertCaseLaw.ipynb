{
 "cells": [
  {
   "cell_type": "markdown",
   "metadata": {},
   "source": [
    "# Converting Case Law from XML to CSV"
   ]
  },
  {
   "cell_type": "markdown",
   "metadata": {},
   "source": [
    "### Libraries and Modules Description"
   ]
  },
  {
   "cell_type": "code",
   "execution_count": 1,
   "metadata": {
    "id": "qGcTyenSx05-"
   },
   "outputs": [],
   "source": [
    "import csv\n",
    "import xml.etree.ElementTree as ET\n",
    "import re"
   ]
  },
  {
   "cell_type": "markdown",
   "metadata": {},
   "source": [
    "1. **`csv`**\n",
    "   - A Python module for working with CSV (Comma-Separated Values) files. It allows for easy reading and writing of structured data in CSV format.\n",
    "   - **Common Usage**: \n",
    "     - Reading CSV files and parsing their content into lists or dictionaries.\n",
    "     - Writing lists or dictionaries to a CSV file.\n",
    "\n",
    "2. **`xml.etree.ElementTree` (ET)**\n",
    "   - A module in Python’s standard library for parsing and creating XML documents. It provides a simple API to create, manipulate, and parse XML data in a tree-like structure.\n",
    "   - **Common Usage**:\n",
    "     - Reading and writing XML files.\n",
    "     - Modifying XML elements and attributes.\n",
    "\n",
    "3. **`re`**\n",
    "   - The **regular expressions (regex)** module in Python. It allows for matching, searching, and manipulating strings using regular expression patterns.\n",
    "   - **Common Usage**:\n",
    "     - Searching for patterns in strings.\n",
    "     - Replacing parts of a string based on a regex pattern."
   ]
  },
  {
   "cell_type": "code",
   "execution_count": 2,
   "metadata": {
    "colab": {
     "base_uri": "https://localhost:8080/"
    },
    "id": "1_F9R4rix9x_",
    "outputId": "b7f692f7-7413-422d-aa21-88509d390168"
   },
   "outputs": [
    {
     "name": "stdout",
     "output_type": "stream",
     "text": [
      "Mounted at /content/drive\n"
     ]
    }
   ],
   "source": [
    "from google.colab import drive\n",
    "drive.mount('/content/drive')"
   ]
  },
  {
   "cell_type": "code",
   "execution_count": 3,
   "metadata": {
    "id": "GYwxJRO1Jj_D"
   },
   "outputs": [],
   "source": [
    "xml_file_path = '/content/drive/MyDrive/all_case_data.xml'\n",
    "csv_file_path = 'cleaned_cases_two.csv'"
   ]
  },
  {
   "cell_type": "markdown",
   "metadata": {},
   "source": [
    "### Function: `clean_text(text)`\n",
    "\n",
    "#### Purpose:\n",
    "The `clean_text` function processes and cleans a given text string by removing unwanted content, formatting dates, and eliminating unnecessary tags. It is particularly useful for cleaning case law text before storing or further processing it.\n",
    "\n",
    "#### Parameters:\n",
    "- **`text`**: A string representing the text to be cleaned. This could be case law content or other textual data. The function handles cases where the input text is `None`."
   ]
  },
  {
   "cell_type": "code",
   "execution_count": 4,
   "metadata": {
    "id": "veP9SLEyyKqW"
   },
   "outputs": [],
   "source": [
    "def clean_text(text):\n",
    "\n",
    "    if text is None:\n",
    "        return \"\"\n",
    "    if \"cookies\" in text.lower() or \"find case law\" in text.lower():\n",
    "        return \"\"\n",
    "\n",
    "    text = text.strip()\n",
    "    text = re.sub(r'(\\d{1,2})(st|nd|rd|th)\\s([A-Za-z]+)\\s(\\d{4})', r'\\4-\\3-\\1', text)\n",
    "    text = re.sub(r\"<text />\", \"\", text)\n",
    "    return text"
   ]
  },
  {
   "cell_type": "markdown",
   "metadata": {},
   "source": [
    "#### Steps:\n",
    "\n",
    "1. **Handle `None` Input**:\n",
    "   - If the `text` is `None`, the function returns an empty string (`\"\"`), ensuring that `None` values do not cause errors in further processing.\n",
    "\n",
    "2. **Filter Unwanted Text**:\n",
    "   - The function checks if the text contains certain unwanted phrases:\n",
    "     - If the text contains `\"cookies\"` (case-insensitive) or `\"find case law\"` (case-insensitive), it is deemed irrelevant and discarded by returning an empty string (`\"\"`).\n",
    "   - This step is useful for removing common boilerplate or irrelevant content (e.g., cookie notices or promotional phrases) from legal text.\n",
    "\n",
    "3. **Remove Leading and Trailing Whitespace**:\n",
    "   - The `strip()` method is used to remove any leading or trailing whitespace from the text.\n",
    "\n",
    "4. **Format Dates**:\n",
    "   - The function uses a regular expression (`re.sub()`) to match and reformat dates in the form of `day-month-year` (e.g., \"1st January 2020\") to the format `year-month-day` (e.g., \"2020-January-1\").\n",
    "   - This is achieved by matching patterns like \"1st January 2020\" and converting them into \"2020-January-1\".\n",
    "\n",
    "5. **Remove Empty Text Tags**:\n",
    "   - The function uses another regular expression (`re.sub()`) to remove any occurrences of the string `\"<text />\"`, which might represent empty or unwanted XML tags in the input.\n",
    "\n",
    "6. **Return Cleaned Text**:\n",
    "   - After the cleaning process, the function returns the cleaned version of the input text, with irrelevant content removed, dates reformatted, and unnecessary tags stripped.\n",
    "\n",
    "#### Output:\n",
    "- The cleaned version of the input text, with dates formatted in `year-month-day` style and unwanted phrases or tags removed."
   ]
  },
  {
   "cell_type": "markdown",
   "metadata": {},
   "source": [
    "### Processing and Saving Cleaned Case Law Data to CSV\n",
    "\n",
    "#### Purpose:\n",
    "This code reads case law data from an XML file, cleans the text using the `clean_text` function, and writes the cleaned content to a CSV file. Each row in the CSV file represents the cleaned text of one case, with the text content separated by newlines."
   ]
  },
  {
   "cell_type": "code",
   "execution_count": 5,
   "metadata": {
    "colab": {
     "base_uri": "https://localhost:8080/"
    },
    "id": "9Rw6ng45M0Rk",
    "outputId": "11cf5812-bb16-4bb4-9bd7-606a50e3e600"
   },
   "outputs": [
    {
     "name": "stdout",
     "output_type": "stream",
     "text": [
      "Processing complete. Cleaned data saved to 'cleaned_cases_two.csv'.\n"
     ]
    }
   ],
   "source": [
    "with open(csv_file_path, 'w', newline='', encoding='utf-8') as csvfile:\n",
    "    writer = csv.writer(csvfile)  # Use csv.writer for single column\n",
    "    writer.writerow(['cleaned_text'])  # Write the header\n",
    "\n",
    "    tree = ET.parse(xml_file_path)\n",
    "    root = tree.getroot()\n",
    "\n",
    "    for case in root.findall(\".//case\"):\n",
    "        cleaned_texts = []\n",
    "        for text_element in case.findall(\".//text\"):\n",
    "            cleaned = clean_text(text_element.text)\n",
    "            if cleaned:\n",
    "                cleaned_texts.append(cleaned)\n",
    "\n",
    "        writer.writerow([\"\\n\".join(cleaned_texts)])\n",
    "\n",
    "print(f\"Processing complete. Cleaned data saved to '{csv_file_path}'.\")"
   ]
  },
  {
   "cell_type": "markdown",
   "metadata": {},
   "source": [
    "#### Steps:\n",
    "\n",
    "1. **Open the CSV File for Writing**:\n",
    "   - The `open()` function is used to open or create a CSV file specified by `csv_file_path` in write mode (`'w'`).\n",
    "   - `newline=''` ensures no extra blank lines are added between rows, and `encoding='utf-8'` ensures that the CSV file can handle Unicode characters.\n",
    "   - A `csv.writer` object is created to write rows to the CSV file, which is expected to contain only one column (for the cleaned case text).\n",
    "   \n",
    "2. **Write Header to CSV**:\n",
    "   - The `writer.writerow()` method is used to write the header row, which contains the column name `'cleaned_text'`. This will label the column in the CSV file.\n",
    "\n",
    "3. **Parse XML File**:\n",
    "   - The XML file at `xml_file_path` is parsed using `ET.parse()`, and the root element of the XML document is retrieved using `getroot()`. This provides access to all the `<case>` elements within the XML structure.\n",
    "\n",
    "4. **Iterate Through Case Elements**:\n",
    "   - The code iterates over all `<case>` elements found in the XML file using `findall(\".//case\")`. Each case represents a collection of `<text>` elements.\n",
    "\n",
    "5. **Clean Text Elements**:\n",
    "   - For each `<case>`, the code initializes an empty list `cleaned_texts` to store the cleaned text content.\n",
    "   - It then iterates through all `<text>` elements within the case using `findall(\".//text\")`.\n",
    "   - The text content of each `<text>` element is passed to the `clean_text()` function for cleaning (e.g., removing irrelevant content, formatting dates).\n",
    "   - If the cleaned text is not empty, it is appended to the `cleaned_texts` list.\n",
    "\n",
    "6. **Write Cleaned Text to CSV**:\n",
    "   - After processing all the `<text>` elements for a given case, the `cleaned_texts` list is joined into a single string, with each cleaned text entry separated by a newline (`\"\\n\"`).\n",
    "   - This string is written to the CSV file as a single row using `writer.writerow()`, ensuring each row contains the cleaned content of one case.\n",
    "\n",
    "7. **Completion Message**:\n",
    "   - After processing all cases, the code prints a message indicating that the processing is complete and the cleaned data has been saved to the specified CSV file.\n",
    "\n",
    "#### Output:\n",
    "- The cleaned case law text is saved in a CSV file at `csv_file_path`. Each row contains the cleaned text of one case, with the individual sections of text separated by newlines within that row."
   ]
  }
 ],
 "metadata": {
  "accelerator": "GPU",
  "colab": {
   "gpuType": "A100",
   "machine_shape": "hm",
   "provenance": []
  },
  "kernelspec": {
   "display_name": "Python 3 (ipykernel)",
   "language": "python",
   "name": "python3"
  },
  "language_info": {
   "codemirror_mode": {
    "name": "ipython",
    "version": 3
   },
   "file_extension": ".py",
   "mimetype": "text/x-python",
   "name": "python",
   "nbconvert_exporter": "python",
   "pygments_lexer": "ipython3",
   "version": "3.10.14"
  }
 },
 "nbformat": 4,
 "nbformat_minor": 4
}
